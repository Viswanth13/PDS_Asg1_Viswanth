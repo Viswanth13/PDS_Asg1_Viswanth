{
  "nbformat": 4,
  "nbformat_minor": 0,
  "metadata": {
    "colab": {
      "provenance": [],
      "authorship_tag": "ABX9TyMJrH5jr4CaNObK7/jLX3Ci",
      "include_colab_link": true
    },
    "kernelspec": {
      "name": "python3",
      "display_name": "Python 3"
    },
    "language_info": {
      "name": "python"
    }
  },
  "cells": [
    {
      "cell_type": "markdown",
      "metadata": {
        "id": "view-in-github",
        "colab_type": "text"
      },
      "source": [
        "<a href=\"https://colab.research.google.com/github/Viswanth13/PDS_Asg1_Viswanth/blob/main/Viswanth_PDS_Asg1_1.ipynb\" target=\"_parent\"><img src=\"https://colab.research.google.com/assets/colab-badge.svg\" alt=\"Open In Colab\"/></a>"
      ]
    },
    {
      "cell_type": "markdown",
      "source": [
        "# Assignment-1, Q1"
      ],
      "metadata": {
        "id": "h91bUUGC9GuP"
      }
    },
    {
      "cell_type": "markdown",
      "source": [
        "1) Frailty is physical weakness; lack of health or strength. Reduced grip strength in females correlated\n",
        "with higher frailty scores and vice versa. Hand grip strength can be quantified by measuring the amount\n",
        "of static force that the hand can squeeze around a dynamometer. The force has most commonly been\n",
        "measured in kilograms and pounds. The table below represents data from 10 female participants. The\n",
        "Height is measured in inches, Weight in pounds, Age in years, Grip strength in kilograms. Frailty is\n",
        "qualitative attribute indicated the presence or absence of the symptoms. Based on the following table,\n",
        "design the three stages of reproducible workflow, includes the work you can do and the folder structure\n",
        "in each stage (reference study case in chapter 3).  "
      ],
      "metadata": {
        "id": "HJYUYzRk9YcM"
      }
    },
    {
      "cell_type": "code",
      "execution_count": 19,
      "metadata": {
        "id": "5eIlacA6O6Fl",
        "colab": {
          "base_uri": "https://localhost:8080/"
        },
        "outputId": "74b03e28-df01-447a-e8e7-9488cda3c2fb"
      },
      "outputs": [
        {
          "output_type": "stream",
          "name": "stdout",
          "text": [
            "  Height Weight Age  Grip Strength Fraility\n",
            "0  65.8    112   30            30        N \n",
            "1  71.5    136   19            31        N \n",
            "2  69.4    153   45            29        N \n",
            "3  68.2    142   22            28        Y \n",
            "4  67.8    144   29            24        Y \n"
          ]
        }
      ],
      "source": [
        "import pandas as pd\n",
        "import os\n",
        "\n",
        "# File paths\n",
        "raw_data_path = \"/content/fraility_project/data_raw/Fraility_Table1.csv\"\n",
        "clean_data_path = \"/content/fraility_project/data_clean/Clean_Fraility_Table1.csv\"\n",
        "\n",
        "\n",
        "# Read the data\n",
        "df = pd.read_csv(raw_data_path,encoding = 'unicode_escape')\n",
        "print(df.head())"
      ]
    },
    {
      "cell_type": "code",
      "source": [
        "df_obj = df.select_dtypes(['object'])\n",
        "#strip the trailing spaces\n",
        "df[df_obj.columns] = df_obj.apply(lambda x: x.str.strip())\n",
        "df.columns = df.columns.str.strip()"
      ],
      "metadata": {
        "id": "mS33Tf1tRDIJ"
      },
      "execution_count": 20,
      "outputs": []
    },
    {
      "cell_type": "code",
      "source": [
        "# converting Fraility column to 0s and 1s\n",
        "df[\"Fraility\"]=df[\"Fraility\"].map({'Y': 1, 'N': 0})\n",
        "print(df.head())"
      ],
      "metadata": {
        "colab": {
          "base_uri": "https://localhost:8080/"
        },
        "id": "9qsRf6ndRTdc",
        "outputId": "213664ff-383d-402a-cd29-51b88d482d46"
      },
      "execution_count": 21,
      "outputs": [
        {
          "output_type": "stream",
          "name": "stdout",
          "text": [
            "  Height Weight Age Grip Strength  Fraility\n",
            "0   65.8    112  30            30         0\n",
            "1   71.5    136  19            31         0\n",
            "2   69.4    153  45            29         0\n",
            "3   68.2    142  22            28         1\n",
            "4   67.8    144  29            24         1\n"
          ]
        }
      ]
    },
    {
      "cell_type": "code",
      "source": [
        "# Handle missing values (example: remove rows)\n",
        "df.dropna(inplace=True)\n",
        "\n",
        "# Convert grip strength to pounds since the weight is in pounds\n",
        "# As of now it might not be useful, but I felt it is a good practice to keep all relevant fields in similar units\n",
        "df[\"Grip_strength_pounds\"] = df[\"Grip Strength\"].astype(float) * 2.20462\n",
        "\n",
        "# Save the cleaned data\n",
        "df.to_csv(clean_data_path, index=False)"
      ],
      "metadata": {
        "id": "X4A7QXHIQ0mO"
      },
      "execution_count": 22,
      "outputs": []
    },
    {
      "cell_type": "code",
      "source": [
        "from scipy import stats\n",
        "\n",
        "\n",
        "# T-test for independent samples\n",
        "t_test_result = stats.ttest_ind(df[\"Grip_strength_pounds\"][df[\"Fraility\"] == 1],\n",
        "                                df[\"Grip_strength_pounds\"][df[\"Fraility\"] == 0],\n",
        "                                equal_var=False)\n",
        "\n",
        "print(t_test_result)\n",
        "\n",
        "print(\"T-test statistic:\", t_test_result.statistic)\n",
        "print(\"P-value:\", t_test_result.pvalue)\n",
        "\n",
        "# Interpretation\n",
        "if t_test_result.pvalue < 0.05:\n",
        "    conclusion = \"There is a statistically significant difference in average grip strength between frail and non-frail participants.\"\n",
        "else:\n",
        "    conclusion = \"There is no statistically significant difference in average grip strength between frail and non-frail participants.\"\n",
        "\n",
        "\n",
        "# Saving to results folder\n",
        "output_file = \"/content/fraility_project/results/results.txt\"\n",
        "with open(output_file, \"w\") as f:\n",
        "        f.write(\"T-test statistic: {:.3f}\\n\".format(t_test_result.statistic))\n",
        "        f.write(\"P-value: {:.3f}\\n\".format(t_test_result.pvalue))\n",
        "        f.write(conclusion + \"\\n\")\n",
        "\n",
        "print('----------------------------------------------')\n",
        "\n",
        "print(conclusion)"
      ],
      "metadata": {
        "colab": {
          "base_uri": "https://localhost:8080/"
        },
        "id": "Jvrkg-w_5RYm",
        "outputId": "c22518bb-3b07-4f82-914d-a4232401c4cf"
      },
      "execution_count": 23,
      "outputs": [
        {
          "output_type": "stream",
          "name": "stdout",
          "text": [
            "TtestResult(statistic=-1.6349999934600015, pvalue=0.14157304166285645, df=7.81686193172263)\n",
            "T-test statistic: -1.6349999934600015\n",
            "P-value: 0.14157304166285645\n",
            "----------------------------------------------\n",
            "There is no statistically significant difference in average grip strength between frail and non-frail participants.\n"
          ]
        }
      ]
    }
  ]
}